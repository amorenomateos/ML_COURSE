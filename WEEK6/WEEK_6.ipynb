{
  "nbformat": 4,
  "nbformat_minor": 0,
  "metadata": {
    "colab": {
      "provenance": []
    },
    "kernelspec": {
      "name": "python3",
      "display_name": "Python 3"
    },
    "language_info": {
      "name": "python"
    }
  },
  "cells": [
    {
      "cell_type": "code",
      "execution_count": 31,
      "metadata": {
        "id": "I5SflYImrUV0"
      },
      "outputs": [],
      "source": [
        "\n",
        "import pandas as pd\n",
        "import numpy as np\n",
        "from sklearn.model_selection import train_test_split\n",
        "from sklearn.feature_extraction import DictVectorizer\n",
        "import matplotlib.pyplot as plt"
      ]
    },
    {
      "cell_type": "code",
      "source": [
        "df = pd.read_csv('/content/housing.csv')"
      ],
      "metadata": {
        "id": "kRB-TbYbrsW9"
      },
      "execution_count": 32,
      "outputs": []
    },
    {
      "cell_type": "markdown",
      "source": [
        "#Preparing the dataset\n",
        "\n",
        "First, keep only the records where ocean_proximity is either <1H OCEAN or INLAND\n",
        "\n",
        "Preparation:\n",
        "\n",
        "Fill missing values with zeros.\n",
        "Apply the log transform to median_house_value.\n",
        "Do train/validation/test split with 60%/20%/20% distribution.\n",
        "Use the train_test_split function and set the random_state parameter to 1.\n",
        "Use DictVectorizer(sparse=True) to turn the dataframes into matrices."
      ],
      "metadata": {
        "id": "ba97wqpxr96z"
      }
    },
    {
      "cell_type": "code",
      "source": [
        "df.ocean_proximity.value_counts()"
      ],
      "metadata": {
        "colab": {
          "base_uri": "https://localhost:8080/"
        },
        "id": "jGagF_1er86M",
        "outputId": "135a3bbe-fd62-43ed-d86a-4a5418e12caa"
      },
      "execution_count": 33,
      "outputs": [
        {
          "output_type": "execute_result",
          "data": {
            "text/plain": [
              "<1H OCEAN     9136\n",
              "INLAND        6551\n",
              "NEAR OCEAN    2658\n",
              "NEAR BAY      2290\n",
              "ISLAND           5\n",
              "Name: ocean_proximity, dtype: int64"
            ]
          },
          "metadata": {},
          "execution_count": 33
        }
      ]
    },
    {
      "cell_type": "code",
      "source": [
        "df2 = df[(df['ocean_proximity']=='<1H OCEAN') | (df['ocean_proximity']=='INLAND')]"
      ],
      "metadata": {
        "id": "EChWUZP8sUJa"
      },
      "execution_count": 34,
      "outputs": []
    },
    {
      "cell_type": "code",
      "source": [
        "df2.isna().sum()"
      ],
      "metadata": {
        "colab": {
          "base_uri": "https://localhost:8080/"
        },
        "id": "tHs3mFR0tEal",
        "outputId": "a0445db7-c828-4b64-9c21-b0b8658e597a"
      },
      "execution_count": 35,
      "outputs": [
        {
          "output_type": "execute_result",
          "data": {
            "text/plain": [
              "longitude               0\n",
              "latitude                0\n",
              "housing_median_age      0\n",
              "total_rooms             0\n",
              "total_bedrooms        157\n",
              "population              0\n",
              "households              0\n",
              "median_income           0\n",
              "median_house_value      0\n",
              "ocean_proximity         0\n",
              "dtype: int64"
            ]
          },
          "metadata": {},
          "execution_count": 35
        }
      ]
    },
    {
      "cell_type": "code",
      "source": [
        "df2.fillna(0, inplace=True)"
      ],
      "metadata": {
        "colab": {
          "base_uri": "https://localhost:8080/"
        },
        "id": "118FWL9ds4S6",
        "outputId": "5c88ee22-f500-4bc4-9f54-2bec7b2704cf"
      },
      "execution_count": 36,
      "outputs": [
        {
          "output_type": "stream",
          "name": "stderr",
          "text": [
            "<ipython-input-36-32f74130add2>:1: SettingWithCopyWarning: \n",
            "A value is trying to be set on a copy of a slice from a DataFrame\n",
            "\n",
            "See the caveats in the documentation: https://pandas.pydata.org/pandas-docs/stable/user_guide/indexing.html#returning-a-view-versus-a-copy\n",
            "  df2.fillna(0, inplace=True)\n"
          ]
        }
      ]
    },
    {
      "cell_type": "code",
      "source": [
        "df2['house_value_log'] = np.log1p(df2.median_house_value.values)"
      ],
      "metadata": {
        "colab": {
          "base_uri": "https://localhost:8080/"
        },
        "id": "bGk-66-btioN",
        "outputId": "30d55887-ca19-4e0f-ae49-a72e752c61ab"
      },
      "execution_count": 37,
      "outputs": [
        {
          "output_type": "stream",
          "name": "stderr",
          "text": [
            "<ipython-input-37-698be793eb9b>:1: SettingWithCopyWarning: \n",
            "A value is trying to be set on a copy of a slice from a DataFrame.\n",
            "Try using .loc[row_indexer,col_indexer] = value instead\n",
            "\n",
            "See the caveats in the documentation: https://pandas.pydata.org/pandas-docs/stable/user_guide/indexing.html#returning-a-view-versus-a-copy\n",
            "  df2['house_value_log'] = np.log1p(df2.median_house_value.values)\n"
          ]
        }
      ]
    },
    {
      "cell_type": "code",
      "source": [
        "df_train_full, df_test = train_test_split(df2, test_size=0.2, random_state=1)\n",
        "df_train, df_val = train_test_split(df_train_full, test_size=0.25, random_state=1)\n",
        "\n",
        "y_train = df_train.house_value_log\n",
        "y_val = df_val.house_value_log\n",
        "y_test = df_test.house_value_log\n",
        "\n",
        "del df_train['median_house_value']\n",
        "del df_val['median_house_value']\n",
        "del df_test['median_house_value']\n",
        "del df_train['house_value_log']\n",
        "del df_val['house_value_log']\n",
        "del df_test['house_value_log']"
      ],
      "metadata": {
        "id": "w75PuK0gtIfC"
      },
      "execution_count": 38,
      "outputs": []
    },
    {
      "cell_type": "code",
      "source": [
        "dv = DictVectorizer(sparse=True)"
      ],
      "metadata": {
        "id": "AUHzzYIAuoDl"
      },
      "execution_count": 39,
      "outputs": []
    },
    {
      "cell_type": "code",
      "source": [
        "X_train = dv.fit_transform(df_train[df_train.columns].to_dict(orient='records'))\n",
        "X_val = dv.transform(df_val[df_val.columns].to_dict(orient='records'))\n",
        "X_test = dv.transform(df_test[df_test.columns].to_dict(orient='records'))"
      ],
      "metadata": {
        "id": "kBa8U2bxvEpd"
      },
      "execution_count": 40,
      "outputs": []
    },
    {
      "cell_type": "markdown",
      "source": [
        "#Question 1\n",
        "Let's train a decision tree regressor to predict the median_house_value variable"
      ],
      "metadata": {
        "id": "zedQR4uMv3ZL"
      }
    },
    {
      "cell_type": "code",
      "source": [
        "from sklearn.tree import DecisionTreeRegressor"
      ],
      "metadata": {
        "id": "v-tb5lfYvzp6"
      },
      "execution_count": 41,
      "outputs": []
    },
    {
      "cell_type": "code",
      "source": [
        "model = DecisionTreeRegressor(max_depth=1)\n",
        "model.fit(X_train, y_train)\n",
        "y_pred = model.predict(X_val)"
      ],
      "metadata": {
        "id": "aFsddlmQx2XE"
      },
      "execution_count": 42,
      "outputs": []
    },
    {
      "cell_type": "code",
      "source": [
        "from sklearn import tree"
      ],
      "metadata": {
        "id": "JoL3hDAiyfXI"
      },
      "execution_count": 43,
      "outputs": []
    },
    {
      "cell_type": "code",
      "source": [
        "plt.figure(figsize=(10, 6))\n",
        "tree.plot_tree(model, filled=True, feature_names=dv.get_feature_names_out(input_features=df.columns))\n",
        "plt.show()"
      ],
      "metadata": {
        "colab": {
          "base_uri": "https://localhost:8080/",
          "height": 499
        },
        "id": "YyZyc-AOyHn1",
        "outputId": "208aa27c-3999-4b2f-9815-24ad594665c6"
      },
      "execution_count": 44,
      "outputs": [
        {
          "output_type": "display_data",
          "data": {
            "text/plain": [
              "<Figure size 1000x600 with 1 Axes>"
            ],
            "image/png": "[encoded data removed]"
          },
          "metadata": {}
        }
      ]
    },
    {
      "cell_type": "code",
      "source": [
        "text_representation = tree.export_text(model)\n",
        "print(text_representation)"
      ],
      "metadata": {
        "colab": {
          "base_uri": "https://localhost:8080/"
        },
        "id": "p-8VmEURyOqv",
        "outputId": "d43ad93b-1b7a-488c-cacb-d5b6a9d3ce0c"
      },
      "execution_count": 45,
      "outputs": [
        {
          "output_type": "stream",
          "name": "stdout",
          "text": [
            "|--- feature_5 <= 0.50\n",
            "|   |--- value: [11.61]\n",
            "|--- feature_5 >  0.50\n",
            "|   |--- value: [12.30]\n",
            "\n"
          ]
        }
      ]
    },
    {
      "cell_type": "markdown",
      "source": [
        "#Question 2\n",
        "Train a random forest model with these parameters:\n",
        "\n",
        "n_estimators=10\n",
        "random_state=1\n",
        "n_jobs=-1 (optional - to make training faster)\n",
        "\n",
        "\n",
        "What's the RMSE of this model on validation?"
      ],
      "metadata": {
        "id": "BVLUqGKj0AKy"
      }
    },
    {
      "cell_type": "code",
      "source": [
        "from sklearn.ensemble import RandomForestRegressor"
      ],
      "metadata": {
        "id": "SoJ4GtSx011d"
      },
      "execution_count": 46,
      "outputs": []
    },
    {
      "cell_type": "code",
      "source": [
        "rf = RandomForestRegressor(n_estimators=10, random_state=1, n_jobs=-1)"
      ],
      "metadata": {
        "id": "0-2zjvotyZFJ"
      },
      "execution_count": 47,
      "outputs": []
    },
    {
      "cell_type": "code",
      "source": [
        "rf.fit(X_train, y_train)\n",
        "y_pred = rf.predict(X_val)"
      ],
      "metadata": {
        "id": "3ZbTzl5yzAw5"
      },
      "execution_count": 48,
      "outputs": []
    },
    {
      "cell_type": "code",
      "source": [
        "def rmse(y, y_pred):\n",
        "    error = y_pred - y\n",
        "    mse = (error ** 2).mean()\n",
        "    return np.sqrt(mse)"
      ],
      "metadata": {
        "id": "l4ke5kNE1N93"
      },
      "execution_count": 49,
      "outputs": []
    },
    {
      "cell_type": "code",
      "source": [
        "score = rmse(y_val,y_pred)"
      ],
      "metadata": {
        "id": "YBHmhI840_uS"
      },
      "execution_count": 50,
      "outputs": []
    },
    {
      "cell_type": "code",
      "source": [
        "score"
      ],
      "metadata": {
        "colab": {
          "base_uri": "https://localhost:8080/"
        },
        "id": "gT3EfJx01Tde",
        "outputId": "7ea79825-fc6f-4062-a310-6e5b08159d47"
      },
      "execution_count": 51,
      "outputs": [
        {
          "output_type": "execute_result",
          "data": {
            "text/plain": [
              "0.24495290030597153"
            ]
          },
          "metadata": {},
          "execution_count": 51
        }
      ]
    },
    {
      "cell_type": "markdown",
      "source": [
        "#Question 3\n",
        "Now let's experiment with the n_estimators parameter\n",
        "\n",
        "Try different values of this parameter from 10 to 200 with step 10.\n",
        "Set random_state to 1.\n",
        "Evaluate the model on the validation dataset.\n",
        "After which value of n_estimators does RMSE stop improving?"
      ],
      "metadata": {
        "id": "v_I_CQov1aMW"
      }
    },
    {
      "cell_type": "code",
      "source": [
        "a={}\n",
        "\n",
        "for i in range(10,200,10):\n",
        "    rf = RandomForestRegressor(n_estimators=i, random_state=1, n_jobs=-1)\n",
        "    rf.fit(X_train, y_train)\n",
        "    y_pred = rf.predict(X_val)\n",
        "    score = rmse(y_val,y_pred)\n",
        "    a[i] = score\n",
        "    print(f\"n_estimators:{i} | RMSE: {score:.3f}\")"
      ],
      "metadata": {
        "colab": {
          "base_uri": "https://localhost:8080/"
        },
        "id": "B2ikqanz1UVG",
        "outputId": "e90271dd-7761-4019-fcbb-1f4c0a61e564"
      },
      "execution_count": 53,
      "outputs": [
        {
          "output_type": "stream",
          "name": "stdout",
          "text": [
            "n_estimators:10 | RMSE: 0.245\n",
            "n_estimators:20 | RMSE: 0.238\n",
            "n_estimators:30 | RMSE: 0.237\n",
            "n_estimators:40 | RMSE: 0.235\n",
            "n_estimators:50 | RMSE: 0.235\n",
            "n_estimators:60 | RMSE: 0.235\n",
            "n_estimators:70 | RMSE: 0.234\n",
            "n_estimators:80 | RMSE: 0.235\n",
            "n_estimators:90 | RMSE: 0.234\n",
            "n_estimators:100 | RMSE: 0.234\n",
            "n_estimators:110 | RMSE: 0.234\n",
            "n_estimators:120 | RMSE: 0.234\n",
            "n_estimators:130 | RMSE: 0.234\n",
            "n_estimators:140 | RMSE: 0.234\n",
            "n_estimators:150 | RMSE: 0.234\n",
            "n_estimators:160 | RMSE: 0.233\n",
            "n_estimators:170 | RMSE: 0.233\n",
            "n_estimators:180 | RMSE: 0.234\n",
            "n_estimators:190 | RMSE: 0.234\n"
          ]
        }
      ]
    },
    {
      "cell_type": "code",
      "source": [
        "a"
      ],
      "metadata": {
        "colab": {
          "base_uri": "https://localhost:8080/"
        },
        "id": "ADizJ7OW9JmN",
        "outputId": "a1c1373b-74e6-4534-daeb-673c4a105c3d"
      },
      "execution_count": 54,
      "outputs": [
        {
          "output_type": "execute_result",
          "data": {
            "text/plain": [
              "{10: 0.24495290030597153,\n",
              " 20: 0.23833358987366798,\n",
              " 30: 0.23650402956159838,\n",
              " 40: 0.23509490973460043,\n",
              " 50: 0.23475019819586204,\n",
              " 60: 0.23450620109029774,\n",
              " 70: 0.23440154550608353,\n",
              " 80: 0.23457219159286974,\n",
              " 90: 0.23447044062017391,\n",
              " 100: 0.23428380626857082,\n",
              " 110: 0.2342106463497939,\n",
              " 120: 0.234022293955548,\n",
              " 130: 0.2338243957678853,\n",
              " 140: 0.23366366433540584,\n",
              " 150: 0.23354802078200426,\n",
              " 160: 0.23342267954173776,\n",
              " 170: 0.23338695822923003,\n",
              " 180: 0.23356148302077012,\n",
              " 190: 0.23380601278831945}"
            ]
          },
          "metadata": {},
          "execution_count": 54
        }
      ]
    },
    {
      "cell_type": "markdown",
      "source": [
        "#Question 4\n",
        "Let's select the best max_depth:\n",
        "\n",
        "Try different values of max_depth: [10, 15, 20, 25]\n",
        "For each of these values,\n",
        "try different values of n_estimators from 10 till 200 (with step 10)\n",
        "calculate the mean RMSE\n",
        "Fix the random seed: random_state=1\n",
        "\n",
        "\n",
        "What's the best max_depth, using the mean RMSE?"
      ],
      "metadata": {
        "id": "zVitxrmN-GHu"
      }
    },
    {
      "cell_type": "code",
      "source": [
        "\n",
        "for n_est in range(10,200,10):\n",
        "    for depth in [10,15,20,25]:\n",
        "        rf = RandomForestRegressor(n_estimators=n_est, random_state=1, n_jobs=-1, max_depth= depth)\n",
        "        rf.fit(X_train, y_train)\n",
        "        y_pred = rf.predict(X_val)\n",
        "        score = rmse(y_val,y_pred)\n",
        "        print(f\"n_estimators:{n_est} | max_depth: {depth}  | RMSE: {score:.3f}\")"
      ],
      "metadata": {
        "colab": {
          "base_uri": "https://localhost:8080/",
          "height": 1000
        },
        "id": "WqQHiAXq9seS",
        "outputId": "1be6d0dd-92e3-445c-bce6-2bc2aa13feed"
      },
      "execution_count": 56,
      "outputs": [
        {
          "output_type": "stream",
          "name": "stdout",
          "text": [
            "n_estimators:10 | max_depth: 10  | RMSE: 0.251\n",
            "n_estimators:10 | max_depth: 15  | RMSE: 0.246\n",
            "n_estimators:10 | max_depth: 20  | RMSE: 0.245\n",
            "n_estimators:10 | max_depth: 25  | RMSE: 0.245\n",
            "n_estimators:20 | max_depth: 10  | RMSE: 0.247\n",
            "n_estimators:20 | max_depth: 15  | RMSE: 0.240\n",
            "n_estimators:20 | max_depth: 20  | RMSE: 0.239\n",
            "n_estimators:20 | max_depth: 25  | RMSE: 0.239\n",
            "n_estimators:30 | max_depth: 10  | RMSE: 0.246\n",
            "n_estimators:30 | max_depth: 15  | RMSE: 0.238\n",
            "n_estimators:30 | max_depth: 20  | RMSE: 0.237\n",
            "n_estimators:30 | max_depth: 25  | RMSE: 0.236\n",
            "n_estimators:40 | max_depth: 10  | RMSE: 0.245\n",
            "n_estimators:40 | max_depth: 15  | RMSE: 0.236\n",
            "n_estimators:40 | max_depth: 20  | RMSE: 0.236\n",
            "n_estimators:40 | max_depth: 25  | RMSE: 0.235\n",
            "n_estimators:50 | max_depth: 10  | RMSE: 0.245\n",
            "n_estimators:50 | max_depth: 15  | RMSE: 0.236\n",
            "n_estimators:50 | max_depth: 20  | RMSE: 0.235\n",
            "n_estimators:50 | max_depth: 25  | RMSE: 0.235\n",
            "n_estimators:60 | max_depth: 10  | RMSE: 0.245\n",
            "n_estimators:60 | max_depth: 15  | RMSE: 0.236\n",
            "n_estimators:60 | max_depth: 20  | RMSE: 0.235\n",
            "n_estimators:60 | max_depth: 25  | RMSE: 0.234\n",
            "n_estimators:70 | max_depth: 10  | RMSE: 0.245\n",
            "n_estimators:70 | max_depth: 15  | RMSE: 0.236\n",
            "n_estimators:70 | max_depth: 20  | RMSE: 0.235\n",
            "n_estimators:70 | max_depth: 25  | RMSE: 0.234\n",
            "n_estimators:80 | max_depth: 10  | RMSE: 0.246\n",
            "n_estimators:80 | max_depth: 15  | RMSE: 0.236\n",
            "n_estimators:80 | max_depth: 20  | RMSE: 0.235\n",
            "n_estimators:80 | max_depth: 25  | RMSE: 0.234\n",
            "n_estimators:90 | max_depth: 10  | RMSE: 0.245\n",
            "n_estimators:90 | max_depth: 15  | RMSE: 0.235\n",
            "n_estimators:90 | max_depth: 20  | RMSE: 0.235\n",
            "n_estimators:90 | max_depth: 25  | RMSE: 0.234\n",
            "n_estimators:100 | max_depth: 10  | RMSE: 0.245\n",
            "n_estimators:100 | max_depth: 15  | RMSE: 0.235\n",
            "n_estimators:100 | max_depth: 20  | RMSE: 0.235\n",
            "n_estimators:100 | max_depth: 25  | RMSE: 0.234\n",
            "n_estimators:110 | max_depth: 10  | RMSE: 0.245\n",
            "n_estimators:110 | max_depth: 15  | RMSE: 0.235\n",
            "n_estimators:110 | max_depth: 20  | RMSE: 0.234\n",
            "n_estimators:110 | max_depth: 25  | RMSE: 0.234\n",
            "n_estimators:120 | max_depth: 10  | RMSE: 0.245\n",
            "n_estimators:120 | max_depth: 15  | RMSE: 0.235\n",
            "n_estimators:120 | max_depth: 20  | RMSE: 0.234\n",
            "n_estimators:120 | max_depth: 25  | RMSE: 0.234\n",
            "n_estimators:130 | max_depth: 10  | RMSE: 0.245\n",
            "n_estimators:130 | max_depth: 15  | RMSE: 0.235\n"
          ]
        },
        {
          "output_type": "error",
          "ename": "KeyboardInterrupt",
          "evalue": "ignored",
          "traceback": [
            "\u001b[0;31m---------------------------------------------------------------------------\u001b[0m",
            "\u001b[0;31mKeyboardInterrupt\u001b[0m                         Traceback (most recent call last)",
            "\u001b[0;32m<ipython-input-56-f5f9420e43dc>\u001b[0m in \u001b[0;36m<cell line: 1>\u001b[0;34m()\u001b[0m\n\u001b[1;32m      2\u001b[0m     \u001b[0;32mfor\u001b[0m \u001b[0mdepth\u001b[0m \u001b[0;32min\u001b[0m \u001b[0;34m[\u001b[0m\u001b[0;36m10\u001b[0m\u001b[0;34m,\u001b[0m\u001b[0;36m15\u001b[0m\u001b[0;34m,\u001b[0m\u001b[0;36m20\u001b[0m\u001b[0;34m,\u001b[0m\u001b[0;36m25\u001b[0m\u001b[0;34m]\u001b[0m\u001b[0;34m:\u001b[0m\u001b[0;34m\u001b[0m\u001b[0;34m\u001b[0m\u001b[0m\n\u001b[1;32m      3\u001b[0m         \u001b[0mrf\u001b[0m \u001b[0;34m=\u001b[0m \u001b[0mRandomForestRegressor\u001b[0m\u001b[0;34m(\u001b[0m\u001b[0mn_estimators\u001b[0m\u001b[0;34m=\u001b[0m\u001b[0mn_est\u001b[0m\u001b[0;34m,\u001b[0m \u001b[0mrandom_state\u001b[0m\u001b[0;34m=\u001b[0m\u001b[0;36m1\u001b[0m\u001b[0;34m,\u001b[0m \u001b[0mn_jobs\u001b[0m\u001b[0;34m=\u001b[0m\u001b[0;34m-\u001b[0m\u001b[0;36m1\u001b[0m\u001b[0;34m,\u001b[0m \u001b[0mmax_depth\u001b[0m\u001b[0;34m=\u001b[0m \u001b[0mdepth\u001b[0m\u001b[0;34m)\u001b[0m\u001b[0;34m\u001b[0m\u001b[0;34m\u001b[0m\u001b[0m\n\u001b[0;32m----> 4\u001b[0;31m         \u001b[0mrf\u001b[0m\u001b[0;34m.\u001b[0m\u001b[0mfit\u001b[0m\u001b[0;34m(\u001b[0m\u001b[0mX_train\u001b[0m\u001b[0;34m,\u001b[0m \u001b[0my_train\u001b[0m\u001b[0;34m)\u001b[0m\u001b[0;34m\u001b[0m\u001b[0;34m\u001b[0m\u001b[0m\n\u001b[0m\u001b[1;32m      5\u001b[0m         \u001b[0my_pred\u001b[0m \u001b[0;34m=\u001b[0m \u001b[0mrf\u001b[0m\u001b[0;34m.\u001b[0m\u001b[0mpredict\u001b[0m\u001b[0;34m(\u001b[0m\u001b[0mX_val\u001b[0m\u001b[0;34m)\u001b[0m\u001b[0;34m\u001b[0m\u001b[0;34m\u001b[0m\u001b[0m\n\u001b[1;32m      6\u001b[0m         \u001b[0mscore\u001b[0m \u001b[0;34m=\u001b[0m \u001b[0mrmse\u001b[0m\u001b[0;34m(\u001b[0m\u001b[0my_val\u001b[0m\u001b[0;34m,\u001b[0m\u001b[0my_pred\u001b[0m\u001b[0;34m)\u001b[0m\u001b[0;34m\u001b[0m\u001b[0;34m\u001b[0m\u001b[0m\n",
            "\u001b[0;32m/usr/local/lib/python3.10/dist-packages/sklearn/ensemble/_forest.py\u001b[0m in \u001b[0;36mfit\u001b[0;34m(self, X, y, sample_weight)\u001b[0m\n\u001b[1;32m    471\u001b[0m             \u001b[0;31m# parallel_backend contexts set at a higher level,\u001b[0m\u001b[0;34m\u001b[0m\u001b[0;34m\u001b[0m\u001b[0m\n\u001b[1;32m    472\u001b[0m             \u001b[0;31m# since correctness does not rely on using threads.\u001b[0m\u001b[0;34m\u001b[0m\u001b[0;34m\u001b[0m\u001b[0m\n\u001b[0;32m--> 473\u001b[0;31m             trees = Parallel(\n\u001b[0m\u001b[1;32m    474\u001b[0m                 \u001b[0mn_jobs\u001b[0m\u001b[0;34m=\u001b[0m\u001b[0mself\u001b[0m\u001b[0;34m.\u001b[0m\u001b[0mn_jobs\u001b[0m\u001b[0;34m,\u001b[0m\u001b[0;34m\u001b[0m\u001b[0;34m\u001b[0m\u001b[0m\n\u001b[1;32m    475\u001b[0m                 \u001b[0mverbose\u001b[0m\u001b[0;34m=\u001b[0m\u001b[0mself\u001b[0m\u001b[0;34m.\u001b[0m\u001b[0mverbose\u001b[0m\u001b[0;34m,\u001b[0m\u001b[0;34m\u001b[0m\u001b[0;34m\u001b[0m\u001b[0m\n",
            "\u001b[0;32m/usr/local/lib/python3.10/dist-packages/sklearn/utils/parallel.py\u001b[0m in \u001b[0;36m__call__\u001b[0;34m(self, iterable)\u001b[0m\n\u001b[1;32m     61\u001b[0m             \u001b[0;32mfor\u001b[0m \u001b[0mdelayed_func\u001b[0m\u001b[0;34m,\u001b[0m \u001b[0margs\u001b[0m\u001b[0;34m,\u001b[0m \u001b[0mkwargs\u001b[0m \u001b[0;32min\u001b[0m \u001b[0miterable\u001b[0m\u001b[0;34m\u001b[0m\u001b[0;34m\u001b[0m\u001b[0m\n\u001b[1;32m     62\u001b[0m         )\n\u001b[0;32m---> 63\u001b[0;31m         \u001b[0;32mreturn\u001b[0m \u001b[0msuper\u001b[0m\u001b[0;34m(\u001b[0m\u001b[0;34m)\u001b[0m\u001b[0;34m.\u001b[0m\u001b[0m__call__\u001b[0m\u001b[0;34m(\u001b[0m\u001b[0miterable_with_config\u001b[0m\u001b[0;34m)\u001b[0m\u001b[0;34m\u001b[0m\u001b[0;34m\u001b[0m\u001b[0m\n\u001b[0m\u001b[1;32m     64\u001b[0m \u001b[0;34m\u001b[0m\u001b[0m\n\u001b[1;32m     65\u001b[0m \u001b[0;34m\u001b[0m\u001b[0m\n",
            "\u001b[0;32m/usr/local/lib/python3.10/dist-packages/joblib/parallel.py\u001b[0m in \u001b[0;36m__call__\u001b[0;34m(self, iterable)\u001b[0m\n\u001b[1;32m   1950\u001b[0m         \u001b[0mnext\u001b[0m\u001b[0;34m(\u001b[0m\u001b[0moutput\u001b[0m\u001b[0;34m)\u001b[0m\u001b[0;34m\u001b[0m\u001b[0;34m\u001b[0m\u001b[0m\n\u001b[1;32m   1951\u001b[0m \u001b[0;34m\u001b[0m\u001b[0m\n\u001b[0;32m-> 1952\u001b[0;31m         \u001b[0;32mreturn\u001b[0m \u001b[0moutput\u001b[0m \u001b[0;32mif\u001b[0m \u001b[0mself\u001b[0m\u001b[0;34m.\u001b[0m\u001b[0mreturn_generator\u001b[0m \u001b[0;32melse\u001b[0m \u001b[0mlist\u001b[0m\u001b[0;34m(\u001b[0m\u001b[0moutput\u001b[0m\u001b[0;34m)\u001b[0m\u001b[0;34m\u001b[0m\u001b[0;34m\u001b[0m\u001b[0m\n\u001b[0m\u001b[1;32m   1953\u001b[0m \u001b[0;34m\u001b[0m\u001b[0m\n\u001b[1;32m   1954\u001b[0m     \u001b[0;32mdef\u001b[0m \u001b[0m__repr__\u001b[0m\u001b[0;34m(\u001b[0m\u001b[0mself\u001b[0m\u001b[0;34m)\u001b[0m\u001b[0;34m:\u001b[0m\u001b[0;34m\u001b[0m\u001b[0;34m\u001b[0m\u001b[0m\n",
            "\u001b[0;32m/usr/local/lib/python3.10/dist-packages/joblib/parallel.py\u001b[0m in \u001b[0;36m_get_outputs\u001b[0;34m(self, iterator, pre_dispatch)\u001b[0m\n\u001b[1;32m   1593\u001b[0m \u001b[0;34m\u001b[0m\u001b[0m\n\u001b[1;32m   1594\u001b[0m             \u001b[0;32mwith\u001b[0m \u001b[0mself\u001b[0m\u001b[0;34m.\u001b[0m\u001b[0m_backend\u001b[0m\u001b[0;34m.\u001b[0m\u001b[0mretrieval_context\u001b[0m\u001b[0;34m(\u001b[0m\u001b[0;34m)\u001b[0m\u001b[0;34m:\u001b[0m\u001b[0;34m\u001b[0m\u001b[0;34m\u001b[0m\u001b[0m\n\u001b[0;32m-> 1595\u001b[0;31m                 \u001b[0;32myield\u001b[0m \u001b[0;32mfrom\u001b[0m \u001b[0mself\u001b[0m\u001b[0;34m.\u001b[0m\u001b[0m_retrieve\u001b[0m\u001b[0;34m(\u001b[0m\u001b[0;34m)\u001b[0m\u001b[0;34m\u001b[0m\u001b[0;34m\u001b[0m\u001b[0m\n\u001b[0m\u001b[1;32m   1596\u001b[0m \u001b[0;34m\u001b[0m\u001b[0m\n\u001b[1;32m   1597\u001b[0m         \u001b[0;32mexcept\u001b[0m \u001b[0mGeneratorExit\u001b[0m\u001b[0;34m:\u001b[0m\u001b[0;34m\u001b[0m\u001b[0;34m\u001b[0m\u001b[0m\n",
            "\u001b[0;32m/usr/local/lib/python3.10/dist-packages/joblib/parallel.py\u001b[0m in \u001b[0;36m_retrieve\u001b[0;34m(self)\u001b[0m\n\u001b[1;32m   1705\u001b[0m                 (self._jobs[0].get_status(\n\u001b[1;32m   1706\u001b[0m                     timeout=self.timeout) == TASK_PENDING)):\n\u001b[0;32m-> 1707\u001b[0;31m                 \u001b[0mtime\u001b[0m\u001b[0;34m.\u001b[0m\u001b[0msleep\u001b[0m\u001b[0;34m(\u001b[0m\u001b[0;36m0.01\u001b[0m\u001b[0;34m)\u001b[0m\u001b[0;34m\u001b[0m\u001b[0;34m\u001b[0m\u001b[0m\n\u001b[0m\u001b[1;32m   1708\u001b[0m                 \u001b[0;32mcontinue\u001b[0m\u001b[0;34m\u001b[0m\u001b[0;34m\u001b[0m\u001b[0m\n\u001b[1;32m   1709\u001b[0m \u001b[0;34m\u001b[0m\u001b[0m\n",
            "\u001b[0;31mKeyboardInterrupt\u001b[0m: "
          ]
        }
      ]
    },
    {
      "cell_type": "markdown",
      "source": [
        "#Question 5\n",
        "\n",
        "For this homework question, we'll find the most important feature:\n",
        "\n",
        "Train the model with these parameters:\n",
        "n_estimators=10,\n",
        "max_depth=20,\n",
        "random_state=1,\n",
        "n_jobs=-1 (optional)\n",
        "Get the feature importance information from this model\n",
        "What's the most important feature (among these 4)?"
      ],
      "metadata": {
        "id": "kLTI7rpi_dgV"
      }
    },
    {
      "cell_type": "code",
      "source": [
        "model = RandomForestRegressor(n_estimators=10, max_depth=20, random_state=1, n_jobs=-1)\n",
        "model.fit(X_train, y_train)\n",
        "y_pred = model.predict(X_val)\n",
        "\n",
        "feature_names = df_train.columns\n",
        "feature_importances = model.feature_importances_\n",
        "feature_importance_dict = dict(zip(feature_names, feature_importances))\n",
        "sorted_feature_importance = sorted(feature_importance_dict.items(), key=lambda x: x[1], reverse=True)\n",
        "for feature, importance in sorted_feature_importance:\n",
        "    print(f\"Feature: {feature}, Importance: {importance:.4f}\")"
      ],
      "metadata": {
        "colab": {
          "base_uri": "https://localhost:8080/"
        },
        "id": "5lk07WVtBIdm",
        "outputId": "46e93b35-6ceb-41f9-dd0c-464659282d8c"
      },
      "execution_count": 57,
      "outputs": [
        {
          "output_type": "stream",
          "name": "stdout",
          "text": [
            "Feature: total_bedrooms, Importance: 0.3357\n",
            "Feature: population, Importance: 0.2925\n",
            "Feature: housing_median_age, Importance: 0.1019\n",
            "Feature: total_rooms, Importance: 0.0862\n",
            "Feature: households, Importance: 0.0738\n",
            "Feature: latitude, Importance: 0.0302\n",
            "Feature: median_income, Importance: 0.0268\n",
            "Feature: ocean_proximity, Importance: 0.0162\n",
            "Feature: longitude, Importance: 0.0150\n"
          ]
        }
      ]
    },
    {
      "cell_type": "code",
      "source": [
        "feature_importances"
      ],
      "metadata": {
        "colab": {
          "base_uri": "https://localhost:8080/"
        },
        "id": "qOCUrBFLBQjV",
        "outputId": "447a077f-127e-4072-d8ea-fc9a9f32763f"
      },
      "execution_count": 58,
      "outputs": [
        {
          "output_type": "execute_result",
          "data": {
            "text/plain": [
              "array([0.01495348, 0.03019435, 0.10189142, 0.0861758 , 0.33566849,\n",
              "       0.29247297, 0.07380644, 0.02682069, 0.01624481, 0.02177155])"
            ]
          },
          "metadata": {},
          "execution_count": 58
        }
      ]
    },
    {
      "cell_type": "code",
      "source": [
        "feature_names"
      ],
      "metadata": {
        "colab": {
          "base_uri": "https://localhost:8080/"
        },
        "id": "o-KMJ85rBIq7",
        "outputId": "dfeed1fb-6d21-4758-dc21-e10a9d723b4c"
      },
      "execution_count": 59,
      "outputs": [
        {
          "output_type": "execute_result",
          "data": {
            "text/plain": [
              "Index(['longitude', 'latitude', 'housing_median_age', 'total_rooms',\n",
              "       'total_bedrooms', 'population', 'households', 'median_income',\n",
              "       'ocean_proximity'],\n",
              "      dtype='object')"
            ]
          },
          "metadata": {},
          "execution_count": 59
        }
      ]
    },
    {
      "cell_type": "markdown",
      "source": [
        "#Question 6\n",
        "Now let's train an XGBoost model! For this question, we'll tune the eta parameter:\n",
        "\n",
        "Install XGBoost\n",
        "Create DMatrix for train and validation\n",
        "Create a watchlist\n",
        "Train a model with these parameters for 100 rounds:"
      ],
      "metadata": {
        "id": "0JZh-WJwBnfd"
      }
    },
    {
      "cell_type": "code",
      "source": [
        "import xgboost as xgb\n",
        "from xgboost import DMatrix"
      ],
      "metadata": {
        "id": "IuGyP9dxBjN8"
      },
      "execution_count": 60,
      "outputs": []
    },
    {
      "cell_type": "code",
      "source": [
        "xgb_params = {\n",
        "    'eta': 0.3,\n",
        "    'max_depth': 6,\n",
        "    'min_child_weight': 1,\n",
        "\n",
        "    'objective': 'reg:squarederror',\n",
        "    'nthread': 8,\n",
        "\n",
        "    'seed': 1,\n",
        "    'verbosity': 1,\n",
        "}"
      ],
      "metadata": {
        "id": "1gm_LJWABygM"
      },
      "execution_count": 61,
      "outputs": []
    },
    {
      "cell_type": "code",
      "source": [
        "dtrain = DMatrix(X_train, label=y_train)\n",
        "dval = DMatrix(X_val, label=y_val)"
      ],
      "metadata": {
        "id": "SRGlVVyJD8-O"
      },
      "execution_count": 62,
      "outputs": []
    },
    {
      "cell_type": "code",
      "source": [
        "# Create a watchlist\n",
        "watchlist = [(dtrain, 'train'), (dval, 'validation')]"
      ],
      "metadata": {
        "id": "mqYAnc4zD-Mn"
      },
      "execution_count": 63,
      "outputs": []
    },
    {
      "cell_type": "code",
      "source": [
        "# Train the model with eta = 0.3\n",
        "num_round = 100\n",
        "model_eta_0_3 = xgb.train(xgb_params, dtrain, num_round, evals=watchlist)"
      ],
      "metadata": {
        "colab": {
          "base_uri": "https://localhost:8080/"
        },
        "id": "RSXYUFprEA9-",
        "outputId": "72ddd56e-115f-47ab-bb5f-df42899e950c"
      },
      "execution_count": 64,
      "outputs": [
        {
          "output_type": "stream",
          "name": "stdout",
          "text": [
            "[0]\ttrain-rmse:0.44350\tvalidation-rmse:0.44250\n",
            "[1]\ttrain-rmse:0.36599\tvalidation-rmse:0.36916\n",
            "[2]\ttrain-rmse:0.31556\tvalidation-rmse:0.32382\n",
            "[3]\ttrain-rmse:0.28541\tvalidation-rmse:0.29965\n",
            "[4]\ttrain-rmse:0.26573\tvalidation-rmse:0.28417\n",
            "[5]\ttrain-rmse:0.25338\tvalidation-rmse:0.27463\n",
            "[6]\ttrain-rmse:0.24157\tvalidation-rmse:0.26770\n",
            "[7]\ttrain-rmse:0.23486\tvalidation-rmse:0.26423\n",
            "[8]\ttrain-rmse:0.22668\tvalidation-rmse:0.25820\n",
            "[9]\ttrain-rmse:0.21995\tvalidation-rmse:0.25444\n",
            "[10]\ttrain-rmse:0.21444\tvalidation-rmse:0.25179\n",
            "[11]\ttrain-rmse:0.21155\tvalidation-rmse:0.25054\n",
            "[12]\ttrain-rmse:0.20729\tvalidation-rmse:0.24791\n",
            "[13]\ttrain-rmse:0.20317\tvalidation-rmse:0.24628\n",
            "[14]\ttrain-rmse:0.20135\tvalidation-rmse:0.24630\n",
            "[15]\ttrain-rmse:0.19858\tvalidation-rmse:0.24522\n",
            "[16]\ttrain-rmse:0.19580\tvalidation-rmse:0.24445\n",
            "[17]\ttrain-rmse:0.19333\tvalidation-rmse:0.24395\n",
            "[18]\ttrain-rmse:0.19107\tvalidation-rmse:0.24284\n",
            "[19]\ttrain-rmse:0.18735\tvalidation-rmse:0.24127\n",
            "[20]\ttrain-rmse:0.18524\tvalidation-rmse:0.23978\n",
            "[21]\ttrain-rmse:0.18332\tvalidation-rmse:0.23963\n",
            "[22]\ttrain-rmse:0.18189\tvalidation-rmse:0.23892\n",
            "[23]\ttrain-rmse:0.18006\tvalidation-rmse:0.23847\n",
            "[24]\ttrain-rmse:0.17869\tvalidation-rmse:0.23847\n",
            "[25]\ttrain-rmse:0.17757\tvalidation-rmse:0.23830\n",
            "[26]\ttrain-rmse:0.17520\tvalidation-rmse:0.23862\n",
            "[27]\ttrain-rmse:0.17430\tvalidation-rmse:0.23807\n",
            "[28]\ttrain-rmse:0.17281\tvalidation-rmse:0.23793\n",
            "[29]\ttrain-rmse:0.17091\tvalidation-rmse:0.23683\n",
            "[30]\ttrain-rmse:0.16888\tvalidation-rmse:0.23570\n",
            "[31]\ttrain-rmse:0.16727\tvalidation-rmse:0.23505\n",
            "[32]\ttrain-rmse:0.16553\tvalidation-rmse:0.23494\n",
            "[33]\ttrain-rmse:0.16453\tvalidation-rmse:0.23476\n",
            "[34]\ttrain-rmse:0.16292\tvalidation-rmse:0.23490\n",
            "[35]\ttrain-rmse:0.16113\tvalidation-rmse:0.23416\n",
            "[36]\ttrain-rmse:0.15969\tvalidation-rmse:0.23402\n",
            "[37]\ttrain-rmse:0.15859\tvalidation-rmse:0.23362\n",
            "[38]\ttrain-rmse:0.15726\tvalidation-rmse:0.23393\n",
            "[39]\ttrain-rmse:0.15663\tvalidation-rmse:0.23383\n",
            "[40]\ttrain-rmse:0.15542\tvalidation-rmse:0.23318\n",
            "[41]\ttrain-rmse:0.15426\tvalidation-rmse:0.23300\n",
            "[42]\ttrain-rmse:0.15289\tvalidation-rmse:0.23266\n",
            "[43]\ttrain-rmse:0.15189\tvalidation-rmse:0.23252\n",
            "[44]\ttrain-rmse:0.15092\tvalidation-rmse:0.23252\n",
            "[45]\ttrain-rmse:0.14941\tvalidation-rmse:0.23190\n",
            "[46]\ttrain-rmse:0.14856\tvalidation-rmse:0.23178\n",
            "[47]\ttrain-rmse:0.14742\tvalidation-rmse:0.23183\n",
            "[48]\ttrain-rmse:0.14683\tvalidation-rmse:0.23198\n",
            "[49]\ttrain-rmse:0.14629\tvalidation-rmse:0.23206\n",
            "[50]\ttrain-rmse:0.14536\tvalidation-rmse:0.23225\n",
            "[51]\ttrain-rmse:0.14450\tvalidation-rmse:0.23225\n",
            "[52]\ttrain-rmse:0.14353\tvalidation-rmse:0.23223\n",
            "[53]\ttrain-rmse:0.14276\tvalidation-rmse:0.23199\n",
            "[54]\ttrain-rmse:0.14180\tvalidation-rmse:0.23194\n",
            "[55]\ttrain-rmse:0.14150\tvalidation-rmse:0.23197\n",
            "[56]\ttrain-rmse:0.14085\tvalidation-rmse:0.23189\n",
            "[57]\ttrain-rmse:0.14020\tvalidation-rmse:0.23177\n",
            "[58]\ttrain-rmse:0.13931\tvalidation-rmse:0.23175\n",
            "[59]\ttrain-rmse:0.13816\tvalidation-rmse:0.23148\n",
            "[60]\ttrain-rmse:0.13719\tvalidation-rmse:0.23139\n",
            "[61]\ttrain-rmse:0.13640\tvalidation-rmse:0.23179\n",
            "[62]\ttrain-rmse:0.13566\tvalidation-rmse:0.23160\n",
            "[63]\ttrain-rmse:0.13439\tvalidation-rmse:0.23151\n",
            "[64]\ttrain-rmse:0.13358\tvalidation-rmse:0.23153\n",
            "[65]\ttrain-rmse:0.13259\tvalidation-rmse:0.23158\n",
            "[66]\ttrain-rmse:0.13197\tvalidation-rmse:0.23144\n",
            "[67]\ttrain-rmse:0.13175\tvalidation-rmse:0.23148\n",
            "[68]\ttrain-rmse:0.13117\tvalidation-rmse:0.23148\n",
            "[69]\ttrain-rmse:0.13046\tvalidation-rmse:0.23137\n",
            "[70]\ttrain-rmse:0.12943\tvalidation-rmse:0.23068\n",
            "[71]\ttrain-rmse:0.12894\tvalidation-rmse:0.23064\n",
            "[72]\ttrain-rmse:0.12854\tvalidation-rmse:0.23082\n",
            "[73]\ttrain-rmse:0.12741\tvalidation-rmse:0.23059\n",
            "[74]\ttrain-rmse:0.12635\tvalidation-rmse:0.23048\n",
            "[75]\ttrain-rmse:0.12555\tvalidation-rmse:0.23039\n",
            "[76]\ttrain-rmse:0.12395\tvalidation-rmse:0.22935\n",
            "[77]\ttrain-rmse:0.12342\tvalidation-rmse:0.22941\n",
            "[78]\ttrain-rmse:0.12255\tvalidation-rmse:0.22913\n",
            "[79]\ttrain-rmse:0.12220\tvalidation-rmse:0.22889\n",
            "[80]\ttrain-rmse:0.12192\tvalidation-rmse:0.22886\n",
            "[81]\ttrain-rmse:0.12126\tvalidation-rmse:0.22903\n",
            "[82]\ttrain-rmse:0.12056\tvalidation-rmse:0.22891\n",
            "[83]\ttrain-rmse:0.11995\tvalidation-rmse:0.22885\n",
            "[84]\ttrain-rmse:0.11922\tvalidation-rmse:0.22893\n",
            "[85]\ttrain-rmse:0.11854\tvalidation-rmse:0.22888\n",
            "[86]\ttrain-rmse:0.11781\tvalidation-rmse:0.22899\n",
            "[87]\ttrain-rmse:0.11692\tvalidation-rmse:0.22908\n",
            "[88]\ttrain-rmse:0.11613\tvalidation-rmse:0.22905\n",
            "[89]\ttrain-rmse:0.11557\tvalidation-rmse:0.22886\n",
            "[90]\ttrain-rmse:0.11496\tvalidation-rmse:0.22861\n",
            "[91]\ttrain-rmse:0.11461\tvalidation-rmse:0.22874\n",
            "[92]\ttrain-rmse:0.11386\tvalidation-rmse:0.22887\n",
            "[93]\ttrain-rmse:0.11342\tvalidation-rmse:0.22895\n",
            "[94]\ttrain-rmse:0.11281\tvalidation-rmse:0.22904\n",
            "[95]\ttrain-rmse:0.11211\tvalidation-rmse:0.22908\n",
            "[96]\ttrain-rmse:0.11139\tvalidation-rmse:0.22875\n",
            "[97]\ttrain-rmse:0.11089\tvalidation-rmse:0.22864\n",
            "[98]\ttrain-rmse:0.11041\tvalidation-rmse:0.22868\n",
            "[99]\ttrain-rmse:0.10989\tvalidation-rmse:0.22862\n"
          ]
        }
      ]
    },
    {
      "cell_type": "code",
      "source": [
        "# Make predictions with the model\n",
        "y_pred_eta_0_3 = model_eta_0_3.predict(dval)\n",
        "\n",
        "# Calculate RMSE for eta = 0.3\n",
        "rmse_eta_0_3 = rmse(y_val, y_pred_eta_0_3)\n",
        "print(f\"RMSE (eta = 0.3): {rmse_eta_0_3:.5f}\")"
      ],
      "metadata": {
        "colab": {
          "base_uri": "https://localhost:8080/"
        },
        "id": "vwaMaWmEEITn",
        "outputId": "d357a282-baff-4e24-f5b5-7cf91897419b"
      },
      "execution_count": 65,
      "outputs": [
        {
          "output_type": "stream",
          "name": "stdout",
          "text": [
            "RMSE (eta = 0.3): 0.22862\n"
          ]
        }
      ]
    },
    {
      "cell_type": "code",
      "source": [
        "# Now change eta to 0.1\n",
        "xgb_params['eta'] = 0.1\n",
        "\n",
        "# Train the model with eta = 0.1\n",
        "model_eta_0_1 = xgb.train(xgb_params, dtrain, num_round, evals=watchlist)\n",
        "\n",
        "# Make predictions with the model\n",
        "y_pred_eta_0_1 = model_eta_0_1.predict(dval)\n",
        "\n"
      ],
      "metadata": {
        "colab": {
          "base_uri": "https://localhost:8080/"
        },
        "id": "Jojk5OpgBz7I",
        "outputId": "1300fe3a-ecca-4e43-afd3-c393a11c7216"
      },
      "execution_count": 66,
      "outputs": [
        {
          "output_type": "stream",
          "name": "stdout",
          "text": [
            "[0]\ttrain-rmse:0.52449\tvalidation-rmse:0.52045\n",
            "[1]\ttrain-rmse:0.48736\tvalidation-rmse:0.48443\n",
            "[2]\ttrain-rmse:0.45433\tvalidation-rmse:0.45293\n",
            "[3]\ttrain-rmse:0.42533\tvalidation-rmse:0.42550\n",
            "[4]\ttrain-rmse:0.39987\tvalidation-rmse:0.40144\n",
            "[5]\ttrain-rmse:0.37822\tvalidation-rmse:0.38151\n",
            "[6]\ttrain-rmse:0.35887\tvalidation-rmse:0.36393\n",
            "[7]\ttrain-rmse:0.34177\tvalidation-rmse:0.34838\n",
            "[8]\ttrain-rmse:0.32701\tvalidation-rmse:0.33492\n",
            "[9]\ttrain-rmse:0.31411\tvalidation-rmse:0.32333\n",
            "[10]\ttrain-rmse:0.30326\tvalidation-rmse:0.31427\n",
            "[11]\ttrain-rmse:0.29355\tvalidation-rmse:0.30615\n",
            "[12]\ttrain-rmse:0.28519\tvalidation-rmse:0.29922\n",
            "[13]\ttrain-rmse:0.27760\tvalidation-rmse:0.29269\n",
            "[14]\ttrain-rmse:0.27116\tvalidation-rmse:0.28796\n",
            "[15]\ttrain-rmse:0.26538\tvalidation-rmse:0.28380\n",
            "[16]\ttrain-rmse:0.26012\tvalidation-rmse:0.27970\n",
            "[17]\ttrain-rmse:0.25583\tvalidation-rmse:0.27661\n",
            "[18]\ttrain-rmse:0.25203\tvalidation-rmse:0.27388\n",
            "[19]\ttrain-rmse:0.24818\tvalidation-rmse:0.27123\n",
            "[20]\ttrain-rmse:0.24512\tvalidation-rmse:0.26882\n",
            "[21]\ttrain-rmse:0.24149\tvalidation-rmse:0.26669\n",
            "[22]\ttrain-rmse:0.23895\tvalidation-rmse:0.26478\n",
            "[23]\ttrain-rmse:0.23594\tvalidation-rmse:0.26331\n",
            "[24]\ttrain-rmse:0.23305\tvalidation-rmse:0.26141\n",
            "[25]\ttrain-rmse:0.23026\tvalidation-rmse:0.25997\n",
            "[26]\ttrain-rmse:0.22720\tvalidation-rmse:0.25799\n",
            "[27]\ttrain-rmse:0.22487\tvalidation-rmse:0.25620\n",
            "[28]\ttrain-rmse:0.22268\tvalidation-rmse:0.25494\n",
            "[29]\ttrain-rmse:0.22084\tvalidation-rmse:0.25374\n",
            "[30]\ttrain-rmse:0.21887\tvalidation-rmse:0.25266\n",
            "[31]\ttrain-rmse:0.21709\tvalidation-rmse:0.25172\n",
            "[32]\ttrain-rmse:0.21505\tvalidation-rmse:0.25075\n",
            "[33]\ttrain-rmse:0.21342\tvalidation-rmse:0.24991\n",
            "[34]\ttrain-rmse:0.21168\tvalidation-rmse:0.24882\n",
            "[35]\ttrain-rmse:0.21020\tvalidation-rmse:0.24826\n",
            "[36]\ttrain-rmse:0.20878\tvalidation-rmse:0.24779\n",
            "[37]\ttrain-rmse:0.20755\tvalidation-rmse:0.24731\n",
            "[38]\ttrain-rmse:0.20625\tvalidation-rmse:0.24668\n",
            "[39]\ttrain-rmse:0.20518\tvalidation-rmse:0.24624\n",
            "[40]\ttrain-rmse:0.20392\tvalidation-rmse:0.24539\n",
            "[41]\ttrain-rmse:0.20285\tvalidation-rmse:0.24501\n",
            "[42]\ttrain-rmse:0.20172\tvalidation-rmse:0.24435\n",
            "[43]\ttrain-rmse:0.20045\tvalidation-rmse:0.24380\n",
            "[44]\ttrain-rmse:0.19900\tvalidation-rmse:0.24311\n",
            "[45]\ttrain-rmse:0.19814\tvalidation-rmse:0.24293\n",
            "[46]\ttrain-rmse:0.19628\tvalidation-rmse:0.24184\n",
            "[47]\ttrain-rmse:0.19561\tvalidation-rmse:0.24159\n",
            "[48]\ttrain-rmse:0.19464\tvalidation-rmse:0.24131\n",
            "[49]\ttrain-rmse:0.19371\tvalidation-rmse:0.24109\n",
            "[50]\ttrain-rmse:0.19215\tvalidation-rmse:0.24020\n",
            "[51]\ttrain-rmse:0.19156\tvalidation-rmse:0.24015\n",
            "[52]\ttrain-rmse:0.19059\tvalidation-rmse:0.23979\n",
            "[53]\ttrain-rmse:0.18985\tvalidation-rmse:0.23958\n",
            "[54]\ttrain-rmse:0.18931\tvalidation-rmse:0.23930\n",
            "[55]\ttrain-rmse:0.18809\tvalidation-rmse:0.23878\n",
            "[56]\ttrain-rmse:0.18734\tvalidation-rmse:0.23853\n",
            "[57]\ttrain-rmse:0.18681\tvalidation-rmse:0.23849\n",
            "[58]\ttrain-rmse:0.18623\tvalidation-rmse:0.23836\n",
            "[59]\ttrain-rmse:0.18561\tvalidation-rmse:0.23835\n",
            "[60]\ttrain-rmse:0.18457\tvalidation-rmse:0.23791\n",
            "[61]\ttrain-rmse:0.18363\tvalidation-rmse:0.23783\n",
            "[62]\ttrain-rmse:0.18310\tvalidation-rmse:0.23788\n",
            "[63]\ttrain-rmse:0.18209\tvalidation-rmse:0.23755\n",
            "[64]\ttrain-rmse:0.18150\tvalidation-rmse:0.23735\n",
            "[65]\ttrain-rmse:0.18063\tvalidation-rmse:0.23698\n",
            "[66]\ttrain-rmse:0.17998\tvalidation-rmse:0.23681\n",
            "[67]\ttrain-rmse:0.17913\tvalidation-rmse:0.23646\n",
            "[68]\ttrain-rmse:0.17843\tvalidation-rmse:0.23628\n",
            "[69]\ttrain-rmse:0.17798\tvalidation-rmse:0.23627\n",
            "[70]\ttrain-rmse:0.17741\tvalidation-rmse:0.23622\n",
            "[71]\ttrain-rmse:0.17685\tvalidation-rmse:0.23607\n",
            "[72]\ttrain-rmse:0.17617\tvalidation-rmse:0.23584\n",
            "[73]\ttrain-rmse:0.17557\tvalidation-rmse:0.23562\n",
            "[74]\ttrain-rmse:0.17522\tvalidation-rmse:0.23537\n",
            "[75]\ttrain-rmse:0.17468\tvalidation-rmse:0.23510\n",
            "[76]\ttrain-rmse:0.17432\tvalidation-rmse:0.23503\n",
            "[77]\ttrain-rmse:0.17395\tvalidation-rmse:0.23494\n",
            "[78]\ttrain-rmse:0.17334\tvalidation-rmse:0.23482\n",
            "[79]\ttrain-rmse:0.17287\tvalidation-rmse:0.23467\n",
            "[80]\ttrain-rmse:0.17242\tvalidation-rmse:0.23453\n",
            "[81]\ttrain-rmse:0.17213\tvalidation-rmse:0.23447\n",
            "[82]\ttrain-rmse:0.17139\tvalidation-rmse:0.23431\n",
            "[83]\ttrain-rmse:0.17105\tvalidation-rmse:0.23428\n",
            "[84]\ttrain-rmse:0.17063\tvalidation-rmse:0.23413\n",
            "[85]\ttrain-rmse:0.17014\tvalidation-rmse:0.23404\n",
            "[86]\ttrain-rmse:0.16966\tvalidation-rmse:0.23401\n",
            "[87]\ttrain-rmse:0.16916\tvalidation-rmse:0.23388\n",
            "[88]\ttrain-rmse:0.16882\tvalidation-rmse:0.23364\n",
            "[89]\ttrain-rmse:0.16835\tvalidation-rmse:0.23339\n",
            "[90]\ttrain-rmse:0.16797\tvalidation-rmse:0.23332\n",
            "[91]\ttrain-rmse:0.16756\tvalidation-rmse:0.23330\n",
            "[92]\ttrain-rmse:0.16707\tvalidation-rmse:0.23298\n",
            "[93]\ttrain-rmse:0.16623\tvalidation-rmse:0.23273\n",
            "[94]\ttrain-rmse:0.16586\tvalidation-rmse:0.23279\n",
            "[95]\ttrain-rmse:0.16562\tvalidation-rmse:0.23276\n",
            "[96]\ttrain-rmse:0.16524\tvalidation-rmse:0.23266\n",
            "[97]\ttrain-rmse:0.16444\tvalidation-rmse:0.23246\n",
            "[98]\ttrain-rmse:0.16383\tvalidation-rmse:0.23222\n",
            "[99]\ttrain-rmse:0.16323\tvalidation-rmse:0.23209\n"
          ]
        }
      ]
    },
    {
      "cell_type": "code",
      "source": [
        "# Calculate RMSE for eta = 0.1\n",
        "rmse_eta_0_1 = rmse(y_val, y_pred_eta_0_1)\n",
        "print(f\"RMSE (eta = 0.1): {rmse_eta_0_1:.5f}\")"
      ],
      "metadata": {
        "colab": {
          "base_uri": "https://localhost:8080/"
        },
        "id": "IImfVmkbERjn",
        "outputId": "34004ee9-0578-48b7-9aa4-e428b8b09422"
      },
      "execution_count": 67,
      "outputs": [
        {
          "output_type": "stream",
          "name": "stdout",
          "text": [
            "RMSE (eta = 0.1): 0.23209\n"
          ]
        }
      ]
    }
  ]
}